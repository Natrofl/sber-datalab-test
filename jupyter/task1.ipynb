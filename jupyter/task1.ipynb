{
 "cells": [
  {
   "cell_type": "code",
   "execution_count": 1,
   "id": "76cb242b",
   "metadata": {},
   "outputs": [],
   "source": [
    "import psycopg2\n",
    "from sqlalchemy import create_engine, inspect"
   ]
  },
  {
   "cell_type": "code",
   "execution_count": 2,
   "id": "423dd201",
   "metadata": {},
   "outputs": [],
   "source": [
    "database = {\n",
    "    'host': \"db.cdp.local\",\n",
    "    'port': \"5432\",\n",
    "    'name': \"sber\",\n",
    "    'user': \"postgres\",\n",
    "    'pass': \"postgres\"\n",
    "}"
   ]
  },
  {
   "cell_type": "code",
   "execution_count": 3,
   "id": "43b45336",
   "metadata": {},
   "outputs": [],
   "source": [
    "engine = create_engine(\"postgresql+psycopg2://{user}:{pass}@{host}:{port}/{name}\".format(**database))"
   ]
  },
  {
   "cell_type": "code",
   "execution_count": 36,
   "id": "e6bf01f3",
   "metadata": {},
   "outputs": [
    {
     "name": "stdout",
     "output_type": "stream",
     "text": [
      "['users', 'servers']\n"
     ]
    }
   ],
   "source": [
    "conn = engine.connect()\n",
    "insp = inspect(engine)\n",
    "\n",
    "print(insp.get_table_names())"
   ]
  },
  {
   "cell_type": "markdown",
   "id": "43a35563-2426-426d-beef-576c810d9140",
   "metadata": {},
   "source": [
    "###Дополнительное задание №1"
   ]
  },
  {
   "cell_type": "code",
   "execution_count": 39,
   "id": "28da3619-fa3b-4e54-ac7f-99e82f072339",
   "metadata": {},
   "outputs": [
    {
     "data": {
      "text/plain": [
       "<sqlalchemy.engine.cursor.LegacyCursorResult at 0x7fdbeb4b6100>"
      ]
     },
     "execution_count": 39,
     "metadata": {},
     "output_type": "execute_result"
    }
   ],
   "source": [
    "conn.execute(\"CREATE sequence IF NOT EXISTS users_seq start with 1;\")\n",
    "conn.execute(\"CREATE table IF NOT EXISTS users (id integer primary key default nextval('users_seq'), name varchar, surname varchar)\")\n",
    "conn.execute(\"CREATE sequence IF NOT EXISTS servers_seq start with 1;\")\n",
    "conn.execute(\"CREATE table IF NOT EXISTS servers (id integer primary key default nextval('servers_seq'), user_id integer, hostname varchar, CONSTRAINT fk_user_id FOREIGN KEY(user_id) REFERENCES users(id))\")"
   ]
  },
  {
   "cell_type": "code",
   "execution_count": 40,
   "id": "a70b168b-9d18-4476-9dcc-9192d8448b54",
   "metadata": {},
   "outputs": [
    {
     "name": "stdout",
     "output_type": "stream",
     "text": [
      "['users', 'servers']\n"
     ]
    }
   ],
   "source": [
    "print(insp.get_table_names())"
   ]
  },
  {
   "cell_type": "code",
   "execution_count": null,
   "id": "3825194e-ab07-4dec-9fc4-60d9283ff138",
   "metadata": {},
   "outputs": [],
   "source": []
  }
 ],
 "metadata": {
  "kernelspec": {
   "display_name": "Python 3 (ipykernel)",
   "language": "python",
   "name": "python3"
  },
  "language_info": {
   "codemirror_mode": {
    "name": "ipython",
    "version": 3
   },
   "file_extension": ".py",
   "mimetype": "text/x-python",
   "name": "python",
   "nbconvert_exporter": "python",
   "pygments_lexer": "ipython3",
   "version": "3.9.7"
  }
 },
 "nbformat": 4,
 "nbformat_minor": 5
}
